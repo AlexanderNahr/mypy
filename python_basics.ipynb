{
 "cells": [
  {
   "cell_type": "markdown",
   "metadata": {},
   "source": [
    "# Python basics\n",
    "Demonstrate python's basic syntax and use cases.\n",
    "\n",
    "## Datatypes\n",
    "\"Flexible\" data types of variables."
   ]
  },
  {
   "cell_type": "code",
   "execution_count": 20,
   "metadata": {
    "scrolled": true
   },
   "outputs": [
    {
     "name": "stdout",
     "output_type": "stream",
     "text": [
      "Int: \t 1\n",
      "String:  my test string\n",
      "Float: \t 1.123123123\n",
      "Complex:  (3+1j)\n"
     ]
    }
   ],
   "source": [
    "i = 1\n",
    "print(\"Int: \\t\", i)\n",
    "i = \"my test string\"\n",
    "print(\"String: \", i)\n",
    "i = 1.123123123 \n",
    "print(\"Float: \\t\", i)\n",
    "i = 1j + 3\n",
    "print(\"Complex: \", i)"
   ]
  },
  {
   "cell_type": "markdown",
   "metadata": {},
   "source": [
    "### String search"
   ]
  },
  {
   "cell_type": "code",
   "execution_count": 21,
   "metadata": {
    "scrolled": true
   },
   "outputs": [
    {
     "name": "stdout",
     "output_type": "stream",
     "text": [
      "Starting index:  8\n"
     ]
    }
   ],
   "source": [
    "i = \"This is true\"\n",
    "print('Starting index: ', i.find(\"true\"))"
   ]
  },
  {
   "cell_type": "markdown",
   "metadata": {},
   "source": [
    " ## Conglomerates\n",
    " ### Arrays (or lists)"
   ]
  },
  {
   "cell_type": "code",
   "execution_count": 22,
   "metadata": {
    "scrolled": true
   },
   "outputs": [
    {
     "name": "stdout",
     "output_type": "stream",
     "text": [
      "my ['my', 'favorite', 'potato']\n"
     ]
    }
   ],
   "source": [
    "arr = [\"my\", \"favorite\", \"potato\"]\n",
    "print(arr[0], arr)\n"
   ]
  },
  {
   "cell_type": "markdown",
   "metadata": {},
   "source": [
    "### Dictionary"
   ]
  },
  {
   "cell_type": "code",
   "execution_count": 23,
   "metadata": {
    "scrolled": true
   },
   "outputs": [
    {
     "name": "stdout",
     "output_type": "stream",
     "text": [
      "{'Name': 'Lenovo', 'Number': 'CT5984.321', 'Result': 0}\n"
     ]
    }
   ],
   "source": [
    "thisdict = {\n",
    "  \"Name\": \"Lenovo\",\n",
    "  \"Number\": \"CT5984.321\",\n",
    "  \"Result\": 0\n",
    "}\n",
    "print(thisdict)"
   ]
  },
  {
   "cell_type": "markdown",
   "metadata": {},
   "source": [
    "## Loop/if..else\n",
    "### *IMPORTANT* indentation:"
   ]
  },
  {
   "cell_type": "code",
   "execution_count": 24,
   "metadata": {
    "scrolled": true
   },
   "outputs": [
    {
     "name": "stdout",
     "output_type": "stream",
     "text": [
      "b is greater than a.\n"
     ]
    }
   ],
   "source": [
    "a = 33\n",
    "b = 33\n",
    "if b > a:\n",
    "    print(\"b is greater than a\")\n",
    "else:\n",
    "    print(\"b is greater than a.\")"
   ]
  },
  {
   "cell_type": "code",
   "execution_count": 25,
   "metadata": {
    "scrolled": true
   },
   "outputs": [
    {
     "name": "stdout",
     "output_type": "stream",
     "text": [
      "b ist smaller or\t euqal to a. asdfasdf 33\n"
     ]
    }
   ],
   "source": [
    "a = 33\n",
    "b = 33\n",
    "if b > a:\n",
    "    print(\"b is greater than a\")\n",
    "else:\n",
    "    print(\"b ist smaller or\\t euqal to a.\", \"asdfasdf\", a)"
   ]
  },
  {
   "cell_type": "code",
   "execution_count": 26,
   "metadata": {
    "scrolled": true
   },
   "outputs": [
    {
     "name": "stdout",
     "output_type": "stream",
     "text": [
      "my\n",
      "favorite\n",
      "potato\n",
      "Yes.\n"
     ]
    }
   ],
   "source": [
    "for x in arr:\n",
    "    print(x)\n",
    "\n",
    "if \"my\" in arr:\n",
    "    print(\"Yes.\")\n",
    "    "
   ]
  },
  {
   "cell_type": "code",
   "execution_count": 27,
   "metadata": {
    "scrolled": true
   },
   "outputs": [
    {
     "name": "stdout",
     "output_type": "stream",
     "text": [
      "1\n",
      "2\n",
      "4\n",
      "5\n",
      "6\n"
     ]
    }
   ],
   "source": [
    "i = 0\n",
    "while i < 6:\n",
    "    i += 1\n",
    "    if i == 3:\n",
    "        continue\n",
    "    print(i)    "
   ]
  },
  {
   "cell_type": "markdown",
   "metadata": {},
   "source": [
    "## Functions"
   ]
  },
  {
   "cell_type": "code",
   "execution_count": 28,
   "metadata": {
    "scrolled": true
   },
   "outputs": [
    {
     "name": "stdout",
     "output_type": "stream",
     "text": [
      "Hello from a function\n",
      "asdf\n"
     ]
    }
   ],
   "source": [
    "def my_function():\n",
    "    print(\"Hello from a function\")\n",
    "    if 1 < 2:\n",
    "        print(\"asdf\")\n",
    "\n",
    "my_function()"
   ]
  },
  {
   "cell_type": "markdown",
   "metadata": {},
   "source": [
    "## Objects"
   ]
  },
  {
   "cell_type": "code",
   "execution_count": 29,
   "metadata": {
    "scrolled": true
   },
   "outputs": [
    {
     "name": "stdout",
     "output_type": "stream",
     "text": [
      "Test case number:  1231.112\n",
      "Test csae result:  PASSED\n"
     ]
    }
   ],
   "source": [
    "class TestEval:\n",
    "  def __init__(self, tc_num, tc_result):\n",
    "    self.tc_num = tc_num\n",
    "    self.tc_result = tc_result\n",
    "\n",
    "p1 = TestEval(\"1231.112\", \"PASSED\")\n",
    "\n",
    "print(\"Test case number: \", p1.tc_num)\n",
    "print(\"Test csae result: \",p1.tc_result)"
   ]
  },
  {
   "cell_type": "markdown",
   "metadata": {},
   "source": [
    "## Advanced\n",
    "### going through dir"
   ]
  },
  {
   "cell_type": "code",
   "execution_count": 30,
   "metadata": {
    "scrolled": true
   },
   "outputs": [
    {
     "name": "stdout",
     "output_type": "stream",
     "text": [
      "The current folder is c:\\test\n",
      "FILE INSIDE c:\\test: .abc.c.swp\n",
      "FILE INSIDE c:\\test: .abc.c.un~\n",
      "FILE INSIDE c:\\test: abc.c\n",
      "FILE INSIDE c:\\test: abc.c~\n",
      "FILE INSIDE c:\\test: abd.k\n",
      "FILE INSIDE c:\\test: output.txt\n",
      "\n"
     ]
    }
   ],
   "source": [
    "import os\n",
    "\n",
    "# loop through folders, subfolders and files\n",
    "for folderName, subfolders, filenames in os.walk('c:\\\\test'):\n",
    "    print('The current folder is ' + folderName)\n",
    "    # print all subfolder and files containted in current folder\n",
    "    for subfolder in subfolders:\n",
    "        print('SUBFOLDER OF ' + folderName + ': ' + subfolder)\n",
    "    for filename in filenames:\n",
    "        print('FILE INSIDE ' + folderName + ': '+ filename)\n",
    "\n",
    "    print('')"
   ]
  },
  {
   "cell_type": "markdown",
   "metadata": {},
   "source": [
    "### finding in files"
   ]
  },
  {
   "cell_type": "code",
   "execution_count": 31,
   "metadata": {
    "scrolled": true
   },
   "outputs": [
    {
     "name": "stdout",
     "output_type": "stream",
     "text": [
      "abc.c contains: \t\t abcd\n",
      "abc.c does not contain: \t NOT-IN-FILE\n"
     ]
    }
   ],
   "source": [
    "# set path and find string\n",
    "fileName = 'c:\\\\test\\\\abc.c'\n",
    "findString = 'abcd'\n",
    "\n",
    "# check file\n",
    "if findString in open(fileName).read():\n",
    "    print(os.path.basename(fileName), 'contains: \\t\\t', findString)\n",
    "    \n",
    "# change find string to somethin invalid\n",
    "findString = 'NOT-IN-FILE'\n",
    "\n",
    "#check file\n",
    "if findString in open(fileName).read():\n",
    "    print(\"true\")\n",
    "else:\n",
    "    print(os.path.basename(fileName), 'does not contain: \\t', findString)"
   ]
  },
  {
   "cell_type": "markdown",
   "metadata": {},
   "source": [
    "### writing files"
   ]
  },
  {
   "cell_type": "code",
   "execution_count": 32,
   "metadata": {
    "scrolled": false
   },
   "outputs": [
    {
     "name": "stdout",
     "output_type": "stream",
     "text": [
      "c:\\test\\.abc.c.swp\n",
      "c:\\test\\.abc.c.un~\n",
      "c:\\test\\abc.c\n",
      "c:\\test\\abc.c\tcontains: \t\tabcd\n",
      "\n",
      "c:\\test\\abc.c~\n",
      "c:\\test\\abd.k\n",
      "c:\\test\\output.txt\n"
     ]
    }
   ],
   "source": [
    "findString = 'abcd'\n",
    "outFilePath = 'c:\\\\test\\\\output.txt'\n",
    "# empty file\n",
    "outFile = open(outFilePath, 'w')\n",
    "outFile.close()\n",
    "\n",
    "for folderName, subFolder, fileNames in os.walk('c:\\\\test'):\n",
    "    for fileName in fileNames:\n",
    "        filePath = os.path.join(folderName, fileName)\n",
    "        print(filePath)\n",
    "        \n",
    "        # check file extension\n",
    "        if filePath.lower().endswith(('.c', '.h')):\n",
    "            # check file content\n",
    "            if findString in open(os.path.join(folderName, fileName)).read():\n",
    "                # write to out file\n",
    "                outFile = open(outFilePath, 'a')\n",
    "                outFile.write(filePath + '\\tcontains: \\t\\t' + findString + '\\n')\n",
    "                print(filePath + '\\tcontains: \\t\\t' + findString + '\\n')\n",
    "                outFile.close()"
   ]
  }
 ],
 "metadata": {
  "kernelspec": {
   "display_name": "Python 3",
   "language": "python",
   "name": "python3"
  },
  "language_info": {
   "codemirror_mode": {
    "name": "ipython",
    "version": 3
   },
   "file_extension": ".py",
   "mimetype": "text/x-python",
   "name": "python",
   "nbconvert_exporter": "python",
   "pygments_lexer": "ipython3",
   "version": "3.7.1"
  }
 },
 "nbformat": 4,
 "nbformat_minor": 2
}
